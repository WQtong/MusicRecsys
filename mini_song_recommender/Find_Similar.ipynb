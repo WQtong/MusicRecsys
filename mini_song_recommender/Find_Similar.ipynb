{
 "cells": [
  {
   "cell_type": "markdown",
   "metadata": {},
   "source": [
    "## Recommend Similar Song For You!\n",
    "\n",
    "You can run all the cells and the fucntion fill let you input the song you are interested. If you enter a song but it shows not in vocabulary, it may be because your input is not match with the song name in KKBOX. So you can search \"song name + KKBOX\" in google to see the right input. I have listed somg useful inputs for you. Note that songs after the middle of 2017 may not be available in the dataset.\n",
    "\n",
    "Before you run the code, download the song2vec model to your machine at:\n",
    "https://www.dropbox.com/s/t75hkzi8wui5ldp/song2vec.model?dl=0\n"
   ]
  },
  {
   "cell_type": "code",
   "execution_count": 1,
   "metadata": {
    "collapsed": false
   },
   "outputs": [
    {
     "name": "stderr",
     "output_type": "stream",
     "text": [
      "D:\\Programming\\Anaconda3\\lib\\site-packages\\gensim\\utils.py:1167: UserWarning: detected Windows; aliasing chunkize to chunkize_serial\n",
      "  warnings.warn(\"detected Windows; aliasing chunkize to chunkize_serial\")\n"
     ]
    }
   ],
   "source": [
    "import gensim"
   ]
  },
  {
   "cell_type": "code",
   "execution_count": 2,
   "metadata": {
    "collapsed": true
   },
   "outputs": [],
   "source": [
    "model = gensim.models.Word2Vec.load(\"song2vec.model\")"
   ]
  },
  {
   "cell_type": "code",
   "execution_count": 4,
   "metadata": {
    "collapsed": false
   },
   "outputs": [],
   "source": [
    "def get_similar_song():\n",
    "    input_name = input()\n",
    "    print(\"similar songs   |   similarity\")\n",
    "    try:\n",
    "        for song in model.wv.most_similar(input_name):\n",
    "            print(\"{}   |   {}\".format(song[0], song[1]))\n",
    "    except KeyError as e:\n",
    "        print(\"the song is not in the song2vec vocabulary\")"
   ]
  },
  {
   "cell_type": "markdown",
   "metadata": {},
   "source": [
    "You can try these inputs:\n",
    "1. 21 Guns\n",
    "2. Been You\n",
    "3. 晴天\n",
    "4. 維瓦第：四季小提琴協奏曲「冬天」/第二樂章：緩板 (The Four Seasons: Winter – Largo)"
   ]
  },
  {
   "cell_type": "code",
   "execution_count": 11,
   "metadata": {
    "collapsed": false
   },
   "outputs": [
    {
     "name": "stdout",
     "output_type": "stream",
     "text": [
      "21 Guns\n",
      "similar songs   |   similarity\n",
      "American Idiot   |   0.9416235089302063\n",
      "Zombie   |   0.9312738180160522\n",
      "Some Nights   |   0.9276890754699707\n",
      "Alone Together   |   0.9253478646278381\n",
      "Guilty All The Same (feat. Rakim)   |   0.9224846363067627\n",
      "Jet Pack Blues   |   0.922204852104187\n",
      "Wherever You Will Go   |   0.9206159710884094\n",
      "The Kids Aren't Alright   |   0.9190025329589844\n",
      "Waiting For The End(等待終幕)   |   0.9189390540122986\n",
      "50 Ways To Say Goodbye   |   0.9185631275177002\n"
     ]
    }
   ],
   "source": [
    "get_similar_song() # Green Day"
   ]
  },
  {
   "cell_type": "code",
   "execution_count": 10,
   "metadata": {
    "collapsed": false
   },
   "outputs": [
    {
     "name": "stdout",
     "output_type": "stream",
     "text": [
      "Been You\n",
      "similar songs   |   similarity\n",
      "Get Used To It   |   0.9582931399345398\n",
      "All In It   |   0.9539421200752258\n",
      "No Sense   |   0.9493401646614075\n",
      "Life Is Worth Living   |   0.947489321231842\n",
      "No Pressure   |   0.9387500286102295\n",
      "Purpose   |   0.9268174171447754\n",
      "The Feeling   |   0.9066795110702515\n",
      "Mark My Words   |   0.9038351774215698\n",
      "Children   |   0.9036614894866943\n",
      "Company   |   0.8881348371505737\n"
     ]
    }
   ],
   "source": [
    "get_similar_song() # justin bieber"
   ]
  },
  {
   "cell_type": "code",
   "execution_count": 12,
   "metadata": {
    "collapsed": false
   },
   "outputs": [
    {
     "name": "stdout",
     "output_type": "stream",
     "text": [
      "晴天\n",
      "similar songs   |   similarity\n",
      "算什麼男人   |   0.8898013234138489\n",
      "聽見下雨的聲音   |   0.86936354637146\n",
      "牽心萬苦   |   0.8036636114120483\n",
      "手心的薔薇 (Beautiful) feat. G.E.M.鄧紫棋   |   0.7750793099403381\n",
      "你他我   |   0.7747445106506348\n",
      "我還是愛著你【三立華劇[幸福兌換券]片尾曲】   |   0.7680702209472656\n",
      "這是最後一次 (This Is The Last Time)   |   0.7650311589241028\n",
      "多遠都要在一起 (Long Distance)   |   0.7604715824127197\n",
      "兜圈   |   0.7575459480285645\n",
      "別說沒愛過 (Dont' Say)   |   0.7567638158798218\n"
     ]
    }
   ],
   "source": [
    "get_similar_song() # Jay Chou, the no.1 popular Chinese singer, you must hear about him! 晴天（Sunny day） is his top 5 song."
   ]
  },
  {
   "cell_type": "code",
   "execution_count": 14,
   "metadata": {
    "collapsed": false
   },
   "outputs": [
    {
     "name": "stdout",
     "output_type": "stream",
     "text": [
      "維瓦第：四季小提琴協奏曲「冬天」/第二樂章：緩板 (The Four Seasons: Winter – Largo)\n",
      "similar songs   |   similarity\n",
      "Cavatina(小夜曲 (英文))   |   0.9962818622589111\n",
      "Dena Derose - In The Glow Of The Moon   |   0.99598628282547\n",
      "貝多芬：給愛麗絲 (Bagatelle in A Minor| WoO 59| “Für Elise“)   |   0.9957882165908813\n",
      "爵士哈力克   |   0.995644211769104\n",
      "孟德爾頌：無言歌「春之聲」(Spring Song in A Major| Op. 62| No. 6)   |   0.995164155960083\n",
      "Schumann : Kinderszenen [Scenes from Childhood] Op.15 : No.7 Träumerei [Dreams]   |   0.9950424432754517\n",
      "Debussy / Orch Büsser: Petite Suite| L. 65: I. En bateau (Orch. Büsser)   |   0.9949594736099243\n",
      "That Day   |   0.9944996237754822\n",
      "Hänsel und Gretel| Act II: Abends| will ich schlafen gehn (Hänsel/Gretel)   |   0.9944844841957092\n",
      "海市蜃樓(鋼琴演奏)   |   0.9941613078117371\n"
     ]
    }
   ],
   "source": [
    "get_similar_song() # This is a classical style music"
   ]
  }
 ],
 "metadata": {
  "kernelspec": {
   "display_name": "Python 3",
   "language": "python",
   "name": "python3"
  },
  "language_info": {
   "codemirror_mode": {
    "name": "ipython",
    "version": 3
   },
   "file_extension": ".py",
   "mimetype": "text/x-python",
   "name": "python",
   "nbconvert_exporter": "python",
   "pygments_lexer": "ipython3",
   "version": "3.5.1"
  }
 },
 "nbformat": 4,
 "nbformat_minor": 0
}
