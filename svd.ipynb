{
 "cells": [
  {
   "cell_type": "code",
   "execution_count": 38,
   "metadata": {},
   "outputs": [],
   "source": [
    "import math\n",
    "import numpy as np\n",
    "from numpy import *\n",
    "from numpy import linalg as la\n",
    "from scipy.sparse import csr_matrix\n",
    "from scipy.sparse import lil_matrix\n",
    "import matplotlib.pyplot as plt\n",
    "import os\n",
    "import difflib\n",
    "from scipy.sparse import csr_matrix\n",
    "import pandas as pd\n",
    "dir_data = os.path.realpath('../data')\n",
    "dir_results = os.path.realpath('../result')"
   ]
  },
  {
   "cell_type": "code",
   "execution_count": 49,
   "metadata": {},
   "outputs": [],
   "source": [
    "import findspark\n",
    "findspark.init('/home/zm2303/spark')\n",
    "import pyspark\n",
    "\n",
    "from pyspark.ml.evaluation import RegressionEvaluator\n",
    "from pyspark.ml.recommendation import ALS\n",
    "from pyspark.sql import Row\n",
    "from pyspark.sql import SparkSession\n",
    "from pyspark.sql.functions import monotonically_increasing_id\n",
    "from pyspark.sql.types import DoubleType\n",
    "from pyspark.sql.types import IntegerType"
   ]
  },
  {
   "cell_type": "code",
   "execution_count": 51,
   "metadata": {},
   "outputs": [],
   "source": [
    "# build a spark session\n",
    "spark = SparkSession\\\n",
    "    .builder\\\n",
    "    .appName(\"SVD\")\\\n",
    "    .getOrCreate()"
   ]
  },
  {
   "cell_type": "markdown",
   "metadata": {},
   "source": [
    "# SVD function"
   ]
  },
  {
   "cell_type": "code",
   "execution_count": 61,
   "metadata": {},
   "outputs": [],
   "source": [
    "from pyspark.mllib.linalg.distributed import RowMatrix\n",
    "from pyspark.mllib.linalg.distributed import CoordinateMatrix, MatrixEntry"
   ]
  },
  {
   "cell_type": "code",
   "execution_count": 260,
   "metadata": {},
   "outputs": [],
   "source": [
    "def load_data():\n",
    "    data_train = spark.read.csv(dir_data + '/' +'1M_train_top80.csv', header = True, inferSchema = True, sep = ',')\n",
    "    data_test = spark.read.csv(dir_data + '/' +'1M_train_top80.csv', header = True, inferSchema = True, sep = ',')\n",
    "    simple_test = data_test.select(['user_id','item_id','target'])\n",
    "    simple_train = data_train.select(['user_id','item_id','target'])\n",
    "    return data_train, data_test, simple_train, simple_test"
   ]
  },
  {
   "cell_type": "code",
   "execution_count": 263,
   "metadata": {},
   "outputs": [],
   "source": [
    "def mat_data( simple_train, simple_test ):\n",
    "    mat_train = CoordinateMatrix(simple_train.rdd.map(lambda row: MatrixEntry(*row)))\n",
    "    mat_train = mat_train.toRowMatrix()\n",
    "    mat_test = CoordinateMatrix(simple_test.rdd.map(lambda row: MatrixEntry(*row)))\n",
    "    mat_test = mat_test.toRowMatrix()\n",
    "    return mat_train, mat_test"
   ]
  },
  {
   "cell_type": "code",
   "execution_count": 108,
   "metadata": {},
   "outputs": [],
   "source": [
    "def SVD(mat, k):\n",
    "    svd = mat.computeSVD(k, computeU=True)\n",
    "    vec_U = svd.U.rows.collect()\n",
    "    vec_U = np.stack( vec_U, axis=0 )\n",
    "    \n",
    "    vec_S = np.zeros((k,k))\n",
    "    diag_S = svd.s.toArray()\n",
    "    for i in range(k):\n",
    "        vec_S[i,i] = diag_S[i]\n",
    "\n",
    "    vec_V = svd.V.toArray()\n",
    "    return vec_U, vec_S, np.transpose(vec_V)"
   ]
  },
  {
   "cell_type": "code",
   "execution_count": 253,
   "metadata": {},
   "outputs": [],
   "source": [
    "def get_rmse(U,S,Vt):\n",
    "    right_term = np.mat(S)*np.mat(Vt)\n",
    "    square_error_sum = 0\n",
    "    num_test = 0\n",
    "    for i in range(U.shape[0]):\n",
    "        user_feature = np.matrix(U[i,:])\n",
    "        rating = np.array(user_feature * right_term)\n",
    "        idx_item = np.where(test_array[:,0] == i)[0]\n",
    "\n",
    "        item_in_test = test_array[idx_item,1]\n",
    "        target_in_test = test_array[idx_item,2]\n",
    "\n",
    "        pred = rating[0,item_in_test]\n",
    "        num_test += pred.shape[0]\n",
    "        square_error_sum += ((target_in_test - pred)**2).sum()\n",
    "    rmse = math.sqrt(square_error_sum/ num_test)\n",
    "    return rmse"
   ]
  },
  {
   "cell_type": "code",
   "execution_count": 262,
   "metadata": {},
   "outputs": [],
   "source": [
    "data_train, date_test, simple_train, simple_test = load_data()"
   ]
  },
  {
   "cell_type": "code",
   "execution_count": 264,
   "metadata": {},
   "outputs": [],
   "source": [
    "mat_train, mat_test = mat_data(simple_train, simple_test)"
   ]
  },
  {
   "cell_type": "code",
   "execution_count": 265,
   "metadata": {},
   "outputs": [],
   "source": [
    "U, S, Vt = SVD(mat_train,5)"
   ]
  },
  {
   "cell_type": "code",
   "execution_count": 254,
   "metadata": {},
   "outputs": [
    {
     "name": "stdout",
     "output_type": "stream",
     "text": [
      "k= 5  rmse = 0.8003207198290588\n",
      "k= 10  rmse = 0.8007292722946386\n",
      "k= 15  rmse = 0.8011834279922992\n",
      "k= 20  rmse = 0.8015893758778195\n",
      "k= 25  rmse = 0.8018737112720412\n",
      "k= 30  rmse = 0.8021572037836594\n",
      "k= 35  rmse = 0.8024503031696952\n",
      "k= 40  rmse = 0.8026062891625323\n",
      "k= 45  rmse = 0.8027885032361883\n",
      "k= 50  rmse = 0.8029322501410318\n"
     ]
    }
   ],
   "source": [
    "RMSE = []\n",
    "for k in range(5,51,5):\n",
    "    U, S, Vt = SVD(mat_train,k)\n",
    "    rmse = get_rmse(U,S,Vt)\n",
    "    RMSE.append(rmse)\n",
    "    print(\"k= {}  rmse = {}\".format(k, rmse))"
   ]
  },
  {
   "cell_type": "code",
   "execution_count": 255,
   "metadata": {},
   "outputs": [
    {
     "data": {
      "text/plain": [
       "[0.8003207198290588,\n",
       " 0.8007292722946386,\n",
       " 0.8011834279922992,\n",
       " 0.8015893758778195,\n",
       " 0.8018737112720412,\n",
       " 0.8021572037836594,\n",
       " 0.8024503031696952,\n",
       " 0.8026062891625323,\n",
       " 0.8027885032361883,\n",
       " 0.8029322501410318]"
      ]
     },
     "execution_count": 255,
     "metadata": {},
     "output_type": "execute_result"
    }
   ],
   "source": [
    "RMSE"
   ]
  },
  {
   "cell_type": "code",
   "execution_count": 257,
   "metadata": {},
   "outputs": [
    {
     "data": {
      "image/png": "[encoded data removed]",
      "text/plain": [
       "<matplotlib.figure.Figure at 0x7f71a06cbeb8>"
      ]
     },
     "metadata": {},
     "output_type": "display_data"
    }
   ],
   "source": [
    "plt.plot(list(x for x in range(5,51,5)),RMSE)\n",
    "plt.xticks(list(x for x in range(5,51,5)), fontsize = 16)\n",
    "plt.yticks(fontsize = 16)\n",
    "plt.title(\"SVD\", fontsize = 16)\n",
    "plt.xlabel(\"Dimension of latent factor\", fontsize = 16)\n",
    "plt.ylabel(\"rmse\", fontsize = 16)\n",
    "plt.savefig(\"SVD.png\", bbox_inches = \"tight\", dpi = 300)"
   ]
  }
 ],
 "metadata": {
  "kernelspec": {
   "display_name": "Python 3",
   "language": "python",
   "name": "python3"
  },
  "language_info": {
   "codemirror_mode": {
    "name": "ipython",
    "version": 3
   },
   "file_extension": ".py",
   "mimetype": "text/x-python",
   "name": "python",
   "nbconvert_exporter": "python",
   "pygments_lexer": "ipython3",
   "version": "3.6.4"
  }
 },
 "nbformat": 4,
 "nbformat_minor": 2
}
