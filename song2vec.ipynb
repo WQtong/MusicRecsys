{
 "cells": [
  {
   "cell_type": "code",
   "execution_count": 46,
   "metadata": {
    "collapsed": false
   },
   "outputs": [],
   "source": [
    "import pandas as pd\n",
    "from tqdm import tqdm\n",
    "import gensim\n",
    "import numpy as np\n",
    "\n",
    "from sklearn.metrics.pairwise import cosine_similarity\n"
   ]
  },
  {
   "cell_type": "code",
   "execution_count": 2,
   "metadata": {
    "collapsed": true
   },
   "outputs": [],
   "source": [
    "class SongSentence(object):\n",
    "    def __init__(self, dirname):\n",
    "        self.dirname = dirname\n",
    " \n",
    "    def __iter__(self):\n",
    "        for line in tqdm(open(self.dirname)):\n",
    "            line = list(map(lambda x: str(songid_to_name.get(x, None)), line.split()))\n",
    "            line = [x for x in line if x is not None]\n",
    "            yield line"
   ]
  },
  {
   "cell_type": "code",
   "execution_count": 2,
   "metadata": {
    "collapsed": true
   },
   "outputs": [],
   "source": [
    "data_member = pd.read_csv(\"./data/members.csv\")\n",
    "data_song_info = pd.read_csv(\"./data/song_extra_info.csv\")\n",
    "data_song = pd.read_csv(\"./data/songs.csv\")\n",
    "data_listen = pd.read_csv(\"./data/train.csv\")\n",
    "\n",
    "data_song = pd.merge(data_song, data_song_info, on=\"song_id\", how=\"left\")"
   ]
  },
  {
   "cell_type": "code",
   "execution_count": 50,
   "metadata": {
    "collapsed": false
   },
   "outputs": [
    {
     "data": {
      "text/plain": [
       "(2296320, 9)"
      ]
     },
     "execution_count": 50,
     "metadata": {},
     "output_type": "execute_result"
    }
   ],
   "source": [
    "data_song.shape"
   ]
  },
  {
   "cell_type": "code",
   "execution_count": 47,
   "metadata": {
    "collapsed": false
   },
   "outputs": [
    {
     "data": {
      "text/plain": [
       "{nan,\n",
       " 'discover',\n",
       " 'search',\n",
       " 'listen with',\n",
       " 'notification',\n",
       " 'explore',\n",
       " 'radio',\n",
       " 'my library',\n",
       " 'settings'}"
      ]
     },
     "execution_count": 47,
     "metadata": {},
     "output_type": "execute_result"
    }
   ],
   "source": [
    "set(data_listen.source_system_tab)"
   ]
  },
  {
   "cell_type": "code",
   "execution_count": 4,
   "metadata": {
    "collapsed": true
   },
   "outputs": [],
   "source": [
    "songid_to_name = dict(zip(data_song.song_id, data_song.name))"
   ]
  },
  {
   "cell_type": "code",
   "execution_count": 7,
   "metadata": {
    "collapsed": true
   },
   "outputs": [],
   "source": [
    "song2vec = gensim.models.Word2Vec.load(\"song2vec.model\")"
   ]
  },
  {
   "cell_type": "code",
   "execution_count": 10,
   "metadata": {
    "collapsed": true
   },
   "outputs": [],
   "source": [
    "song_list = list(song2vec.wv.vocab.keys())"
   ]
  },
  {
   "cell_type": "code",
   "execution_count": 37,
   "metadata": {
    "collapsed": false
   },
   "outputs": [],
   "source": [
    "def get_songvec(song_id):\n",
    "    name = songid_to_name.get(song_id, None)\n",
    "    if name:\n",
    "        if name in song_list:\n",
    "            return song2vec.wv[name]\n",
    "    return [np.nan]*100"
   ]
  },
  {
   "cell_type": "code",
   "execution_count": null,
   "metadata": {
    "collapsed": true
   },
   "outputs": [],
   "source": []
  },
  {
   "cell_type": "code",
   "execution_count": 6,
   "metadata": {
    "collapsed": false
   },
   "outputs": [
    {
     "data": {
      "text/html": [
       "<div>\n",
       "<style scoped>\n",
       "    .dataframe tbody tr th:only-of-type {\n",
       "        vertical-align: middle;\n",
       "    }\n",
       "\n",
       "    .dataframe tbody tr th {\n",
       "        vertical-align: top;\n",
       "    }\n",
       "\n",
       "    .dataframe thead th {\n",
       "        text-align: right;\n",
       "    }\n",
       "</style>\n",
       "<table border=\"1\" class=\"dataframe\">\n",
       "  <thead>\n",
       "    <tr style=\"text-align: right;\">\n",
       "      <th></th>\n",
       "      <th>msno</th>\n",
       "      <th>city</th>\n",
       "      <th>bd</th>\n",
       "      <th>gender</th>\n",
       "      <th>registered_via</th>\n",
       "      <th>registration_init_time</th>\n",
       "      <th>expiration_date</th>\n",
       "    </tr>\n",
       "  </thead>\n",
       "  <tbody>\n",
       "    <tr>\n",
       "      <th>0</th>\n",
       "      <td>XQxgAYj3klVKjR3oxPPXYYFp4soD4TuBghkhMTD4oTw=</td>\n",
       "      <td>1</td>\n",
       "      <td>0</td>\n",
       "      <td>NaN</td>\n",
       "      <td>7</td>\n",
       "      <td>2011-08-20</td>\n",
       "      <td>2017-09-20</td>\n",
       "    </tr>\n",
       "    <tr>\n",
       "      <th>1</th>\n",
       "      <td>UizsfmJb9mV54qE9hCYyU07Va97c0lCRLEQX3ae+ztM=</td>\n",
       "      <td>1</td>\n",
       "      <td>0</td>\n",
       "      <td>NaN</td>\n",
       "      <td>7</td>\n",
       "      <td>2015-06-28</td>\n",
       "      <td>2017-06-22</td>\n",
       "    </tr>\n",
       "    <tr>\n",
       "      <th>2</th>\n",
       "      <td>D8nEhsIOBSoE6VthTaqDX8U6lqjJ7dLdr72mOyLya2A=</td>\n",
       "      <td>1</td>\n",
       "      <td>0</td>\n",
       "      <td>NaN</td>\n",
       "      <td>4</td>\n",
       "      <td>2016-04-11</td>\n",
       "      <td>2017-07-12</td>\n",
       "    </tr>\n",
       "    <tr>\n",
       "      <th>3</th>\n",
       "      <td>mCuD+tZ1hERA/o5GPqk38e041J8ZsBaLcu7nGoIIvhI=</td>\n",
       "      <td>1</td>\n",
       "      <td>0</td>\n",
       "      <td>NaN</td>\n",
       "      <td>9</td>\n",
       "      <td>2015-09-06</td>\n",
       "      <td>2015-09-07</td>\n",
       "    </tr>\n",
       "    <tr>\n",
       "      <th>4</th>\n",
       "      <td>q4HRBfVSssAFS9iRfxWrohxuk9kCYMKjHOEagUMV6rQ=</td>\n",
       "      <td>1</td>\n",
       "      <td>0</td>\n",
       "      <td>NaN</td>\n",
       "      <td>4</td>\n",
       "      <td>2017-01-26</td>\n",
       "      <td>2017-06-13</td>\n",
       "    </tr>\n",
       "  </tbody>\n",
       "</table>\n",
       "</div>"
      ],
      "text/plain": [
       "                                           msno  city  bd gender  \\\n",
       "0  XQxgAYj3klVKjR3oxPPXYYFp4soD4TuBghkhMTD4oTw=     1   0    NaN   \n",
       "1  UizsfmJb9mV54qE9hCYyU07Va97c0lCRLEQX3ae+ztM=     1   0    NaN   \n",
       "2  D8nEhsIOBSoE6VthTaqDX8U6lqjJ7dLdr72mOyLya2A=     1   0    NaN   \n",
       "3  mCuD+tZ1hERA/o5GPqk38e041J8ZsBaLcu7nGoIIvhI=     1   0    NaN   \n",
       "4  q4HRBfVSssAFS9iRfxWrohxuk9kCYMKjHOEagUMV6rQ=     1   0    NaN   \n",
       "\n",
       "   registered_via registration_init_time expiration_date  \n",
       "0               7             2011-08-20      2017-09-20  \n",
       "1               7             2015-06-28      2017-06-22  \n",
       "2               4             2016-04-11      2017-07-12  \n",
       "3               9             2015-09-06      2015-09-07  \n",
       "4               4             2017-01-26      2017-06-13  "
      ]
     },
     "execution_count": 6,
     "metadata": {},
     "output_type": "execute_result"
    }
   ],
   "source": [
    "date_columns = ['expiration_date', 'registration_init_time']\n",
    "user_data = pd.read_csv('./data/members.csv', parse_dates=date_columns)\n",
    "user_data.head()"
   ]
  },
  {
   "cell_type": "code",
   "execution_count": 7,
   "metadata": {
    "collapsed": false
   },
   "outputs": [],
   "source": [
    "sentences = SongSentence(\"./files/song_corpus.txt\") # a memory-friendly iterator\n",
    "\n",
    "songid_to_name = dict(zip(data_song.song_id, data_song.name))"
   ]
  },
  {
   "cell_type": "code",
   "execution_count": 8,
   "metadata": {
    "collapsed": false,
    "scrolled": false
   },
   "outputs": [
    {
     "name": "stderr",
     "output_type": "stream",
     "text": [
      "652092it [00:17, 37434.81it/s]\n",
      "652092it [00:22, 29034.28it/s]\n",
      "652092it [00:20, 31310.44it/s]\n",
      "652092it [00:22, 29327.13it/s]\n",
      "652092it [00:22, 28683.14it/s]\n",
      "652092it [00:23, 27454.75it/s]\n"
     ]
    }
   ],
   "source": [
    "model = gensim.models.Word2Vec(sentences, workers=4)"
   ]
  },
  {
   "cell_type": "markdown",
   "metadata": {},
   "source": [
    "You can run the following cell to see the result"
   ]
  },
  {
   "cell_type": "code",
   "execution_count": 9,
   "metadata": {
    "collapsed": false
   },
   "outputs": [
    {
     "name": "stdout",
     "output_type": "stream",
     "text": [
      "晴天\n",
      "similar songs   |   similarity\n",
      "算什麼男人   |   0.8898013234138489\n",
      "聽見下雨的聲音   |   0.86936354637146\n",
      "牽心萬苦   |   0.8036636114120483\n",
      "手心的薔薇 (Beautiful) feat. G.E.M.鄧紫棋   |   0.7750793099403381\n",
      "你他我   |   0.7747445106506348\n",
      "我還是愛著你【三立華劇[幸福兌換券]片尾曲】   |   0.7680702209472656\n",
      "這是最後一次 (This Is The Last Time)   |   0.7650311589241028\n",
      "多遠都要在一起 (Long Distance)   |   0.7604715824127197\n",
      "兜圈   |   0.7575459480285645\n",
      "別說沒愛過 (Dont' Say)   |   0.7567638158798218\n"
     ]
    }
   ],
   "source": [
    "input_name = input()\n",
    "print(\"similar songs   |   similarity\")\n",
    "try:\n",
    "    for song in model.wv.most_similar(input_name):\n",
    "        print(\"{}   |   {}\".format(song[0], song[1]))\n",
    "except KeyError as e:\n",
    "    print(\"the song is not in the song2vec vocabulary\")"
   ]
  },
  {
   "cell_type": "code",
   "execution_count": 11,
   "metadata": {
    "collapsed": false
   },
   "outputs": [],
   "source": [
    "model.save(\"song2vec.model\")"
   ]
  },
  {
   "cell_type": "code",
   "execution_count": 12,
   "metadata": {
    "collapsed": true
   },
   "outputs": [],
   "source": [
    "model2 = gensim.models.Word2Vec.load(\"song2vec.model\")"
   ]
  },
  {
   "cell_type": "markdown",
   "metadata": {
    "collapsed": false
   },
   "source": [
    "#### It seems the song2vec result is OK. We can do some 2D visualization later. How about Artist2vec?"
   ]
  },
  {
   "cell_type": "code",
   "execution_count": 15,
   "metadata": {
    "collapsed": false
   },
   "outputs": [
    {
     "name": "stderr",
     "output_type": "stream",
     "text": [
      "2296320it [06:51, 5581.89it/s]\n"
     ]
    }
   ],
   "source": [
    "# create artist to song dictionary\n",
    "artist_song_dict = dict()\n",
    "for artist, song in tqdm(zip(data_song.artist_name.values, data_song.name.values)):\n",
    "    artist_song_dict[artist] = artist_song_dict.get(artist, []) + [song]"
   ]
  },
  {
   "cell_type": "code",
   "execution_count": 16,
   "metadata": {
    "collapsed": false
   },
   "outputs": [],
   "source": [
    "artist2vec = dict()\n",
    "no_song_count = 0\n",
    "for artist in art2vec_keys:\n",
    "    songs = artist_song_dict[artist]\n",
    "    song_vectors = list(map(lambda x: model.wv[x] if x in model.wv else None, songs))\n",
    "    song_vectors = [x for x in song_vectors if x is not None]\n",
    "    if len(song_vectors) == 0:\n",
    "        no_song_count += 1\n",
    "    else:\n",
    "        artist2vec[artist] = sum(song_vectors) / len(song_vectors)"
   ]
  },
  {
   "cell_type": "code",
   "execution_count": 19,
   "metadata": {
    "collapsed": false
   },
   "outputs": [],
   "source": [
    "import pickle\n",
    "with open(\"artist2vec.txt\", \"wb\") as f:\n",
    "    pickle.dump(artist2vec, f)"
   ]
  },
  {
   "cell_type": "code",
   "execution_count": 52,
   "metadata": {
    "collapsed": false
   },
   "outputs": [
    {
     "name": "stdout",
     "output_type": "stream",
     "text": [
      "finally we obtain vectors for 32114 artists\n"
     ]
    }
   ],
   "source": [
    "artist_set = list(artist2vec.keys())\n",
    "print(\"finally we obtain vectors for {} artists\".format(len(artist_set)))"
   ]
  },
  {
   "cell_type": "code",
   "execution_count": 54,
   "metadata": {
    "collapsed": false
   },
   "outputs": [
    {
     "data": {
      "text/html": [
       "<div>\n",
       "<style scoped>\n",
       "    .dataframe tbody tr th:only-of-type {\n",
       "        vertical-align: middle;\n",
       "    }\n",
       "\n",
       "    .dataframe tbody tr th {\n",
       "        vertical-align: top;\n",
       "    }\n",
       "\n",
       "    .dataframe thead th {\n",
       "        text-align: right;\n",
       "    }\n",
       "</style>\n",
       "<table border=\"1\" class=\"dataframe\">\n",
       "  <thead>\n",
       "    <tr style=\"text-align: right;\">\n",
       "      <th></th>\n",
       "      <th>song_id</th>\n",
       "      <th>song_length</th>\n",
       "      <th>genre_ids</th>\n",
       "      <th>artist_name</th>\n",
       "      <th>composer</th>\n",
       "      <th>lyricist</th>\n",
       "      <th>language</th>\n",
       "      <th>name</th>\n",
       "      <th>isrc</th>\n",
       "    </tr>\n",
       "  </thead>\n",
       "  <tbody>\n",
       "    <tr>\n",
       "      <th>95276</th>\n",
       "      <td>swwNe+zgflQtic46OQ3ytU1QvNf71XRZzvCHSwAqcto=</td>\n",
       "      <td>187141</td>\n",
       "      <td>465</td>\n",
       "      <td>牟茗</td>\n",
       "      <td>NaN</td>\n",
       "      <td>NaN</td>\n",
       "      <td>3.0</td>\n",
       "      <td>南山南</td>\n",
       "      <td>QMDA61534977</td>\n",
       "    </tr>\n",
       "    <tr>\n",
       "      <th>167421</th>\n",
       "      <td>/Sx6lLX2XhU/myW3/XtW6KLZmFdMZWNecA3cyJfpNVs=</td>\n",
       "      <td>324963</td>\n",
       "      <td>829|458</td>\n",
       "      <td>馬頔 (Di Ma)</td>\n",
       "      <td>馬頔</td>\n",
       "      <td>馬頔</td>\n",
       "      <td>3.0</td>\n",
       "      <td>南山南</td>\n",
       "      <td>CNA231402073</td>\n",
       "    </tr>\n",
       "    <tr>\n",
       "      <th>1203597</th>\n",
       "      <td>TrA3A27qJFi7axOXvN+zypkjhACz7CBCL7qVzVvC4Qc=</td>\n",
       "      <td>167497</td>\n",
       "      <td>458</td>\n",
       "      <td>陳信喆</td>\n",
       "      <td>堯十三</td>\n",
       "      <td>馬頔</td>\n",
       "      <td>3.0</td>\n",
       "      <td>南山南</td>\n",
       "      <td>TWU711601656</td>\n",
       "    </tr>\n",
       "  </tbody>\n",
       "</table>\n",
       "</div>"
      ],
      "text/plain": [
       "                                              song_id  song_length genre_ids  \\\n",
       "95276    swwNe+zgflQtic46OQ3ytU1QvNf71XRZzvCHSwAqcto=       187141       465   \n",
       "167421   /Sx6lLX2XhU/myW3/XtW6KLZmFdMZWNecA3cyJfpNVs=       324963   829|458   \n",
       "1203597  TrA3A27qJFi7axOXvN+zypkjhACz7CBCL7qVzVvC4Qc=       167497       458   \n",
       "\n",
       "        artist_name composer lyricist  language name          isrc  \n",
       "95276            牟茗      NaN      NaN       3.0  南山南  QMDA61534977  \n",
       "167421   馬頔 (Di Ma)       馬頔       馬頔       3.0  南山南  CNA231402073  \n",
       "1203597         陳信喆      堯十三       馬頔       3.0  南山南  TWU711601656  "
      ]
     },
     "execution_count": 54,
     "metadata": {},
     "output_type": "execute_result"
    }
   ],
   "source": [
    "data_song[data_song.name == \"\"]"
   ]
  },
  {
   "cell_type": "code",
   "execution_count": 17,
   "metadata": {
    "collapsed": false
   },
   "outputs": [
    {
     "data": {
      "text/plain": [
       "array([[ 1.        ,  0.36542746,  0.20905924, -0.02671132,  0.09035478],\n",
       "       [ 0.36542746,  1.0000001 ,  0.13714375,  0.4680647 ,  0.41523182],\n",
       "       [ 0.20905924,  0.13714375,  1.0000001 ,  0.24226278,  0.12728406],\n",
       "       [-0.02671132,  0.4680647 ,  0.24226278,  0.9999999 ,  0.4938362 ],\n",
       "       [ 0.09035478,  0.41523182,  0.12728406,  0.4938362 ,  1.        ]],\n",
       "      dtype=float32)"
      ]
     },
     "execution_count": 17,
     "metadata": {},
     "output_type": "execute_result"
    }
   ],
   "source": [
    "cosine_similarity([artist2vec[\"馬頔 (Di Ma)\"], artist2vec[\"宋冬野 (Dongye Song)\"], artist2vec[\"Lady Gaga\"]\n",
    "                  , artist2vec[\"周杰倫 (Jay Chou)\"], artist2vec[\"林俊傑 (JJ Lin)\"]])"
   ]
  },
  {
   "cell_type": "code",
   "execution_count": 64,
   "metadata": {
    "collapsed": false
   },
   "outputs": [
    {
     "data": {
      "text/plain": [
       "-0.02729522"
      ]
     },
     "execution_count": 64,
     "metadata": {},
     "output_type": "execute_result"
    }
   ],
   "source": [
    "cosine_similarity([artist2vec[\"馬頔 (Di Ma)\"], artist2vec[\"周杰倫 (Jay Chou)\"]])[0][1]"
   ]
  },
  {
   "cell_type": "code",
   "execution_count": 68,
   "metadata": {
    "collapsed": false
   },
   "outputs": [
    {
     "data": {
      "text/plain": [
       "0.22212684"
      ]
     },
     "execution_count": 68,
     "metadata": {},
     "output_type": "execute_result"
    }
   ],
   "source": [
    "cosine_similarity([artist2vec[\"馬頔 (Di Ma)\"], artist2vec[\"Lady Gaga\"]])[0][1]"
   ]
  },
  {
   "cell_type": "code",
   "execution_count": 70,
   "metadata": {
    "collapsed": false
   },
   "outputs": [
    {
     "data": {
      "text/plain": [
       "0.48841667"
      ]
     },
     "execution_count": 70,
     "metadata": {},
     "output_type": "execute_result"
    }
   ],
   "source": [
    "cosine_similarity([artist2vec[\"林俊傑 (JJ Lin)\"], artist2vec[\"周杰倫 (Jay Chou)\"]])[0][1]"
   ]
  }
 ],
 "metadata": {
  "kernelspec": {
   "display_name": "Python 3",
   "language": "python",
   "name": "python3"
  },
  "language_info": {
   "codemirror_mode": {
    "name": "ipython",
    "version": 3
   },
   "file_extension": ".py",
   "mimetype": "text/x-python",
   "name": "python",
   "nbconvert_exporter": "python",
   "pygments_lexer": "ipython3",
   "version": "3.5.1"
  }
 },
 "nbformat": 4,
 "nbformat_minor": 0
}
